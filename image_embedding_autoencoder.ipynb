{
  "cells": [
    {
      "cell_type": "code",
      "execution_count": 121,
      "metadata": {
        "id": "8a3bdb48"
      },
      "outputs": [],
      "source": [
        "import torch\n",
        "from torch import nn\n",
        "import numpy as np\n",
        "from torch.optim import SGD, Adam\n",
        "import matplotlib.pyplot as plt\n",
        "import numpy as np\n",
        "from torchsummary import summary"
      ],
      "id": "8a3bdb48"
    },
    {
      "cell_type": "code",
      "source": [
        "device = torch.device('cuda' if torch.cuda.is_available() else 'cpu')\n",
        "device"
      ],
      "metadata": {
        "colab": {
          "base_uri": "https://localhost:8080/"
        },
        "id": "EKEebp-O-4ep",
        "outputId": "d52600e0-df41-4cda-cc82-8376d80aef9f"
      },
      "id": "EKEebp-O-4ep",
      "execution_count": 122,
      "outputs": [
        {
          "output_type": "execute_result",
          "data": {
            "text/plain": [
              "device(type='cuda')"
            ]
          },
          "metadata": {},
          "execution_count": 122
        }
      ]
    },
    {
      "cell_type": "code",
      "execution_count": 123,
      "metadata": {
        "id": "daed2a6b"
      },
      "outputs": [],
      "source": [
        "BATCH_SIZE = 32\n",
        "LATENT_SIZE = 64"
      ],
      "id": "daed2a6b"
    },
    {
      "cell_type": "code",
      "execution_count": 124,
      "metadata": {
        "id": "htv2P2m_5rpJ"
      },
      "outputs": [],
      "source": [
        "#device = torch.device(\"cuda:0\" if torch.cuda.is_available() else \"cpu\")"
      ],
      "id": "htv2P2m_5rpJ"
    },
    {
      "cell_type": "code",
      "execution_count": 125,
      "metadata": {
        "id": "eWJvmPQG-3RB"
      },
      "outputs": [],
      "source": [
        "class ConvBlock(nn.Module):\n",
        "  def __init__(self, in_channels, out_channels, kernel_size):\n",
        "    super().__init__()\n",
        "\n",
        "    self.conv = nn.Conv2d(in_channels, out_channels, kernel_size)\n",
        "    self.batchnorm = nn.BatchNorm2d(out_channels)\n",
        "    #self.pooling = nn.MaxPool2d((2, 2))\n",
        "  \n",
        "    self.layers = [self.conv, self.batchnorm]\n",
        "\n",
        "  def forward(self, x):\n",
        "    #logits = x\n",
        "    #for layer in self.layers:\n",
        "    #  logits = layer(logits)\n",
        "    return self.batchnorm(self.conv(x))\n",
        "  \n",
        "class DeconvBlock(nn.Module):\n",
        "  def __init__(self, in_channels, out_channels, kernel_size):\n",
        "    super().__init__()\n",
        "\n",
        "    self.deconv = nn.ConvTranspose2d(in_channels, out_channels, kernel_size)\n",
        "    self.batchnorm = nn.BatchNorm2d(out_channels)\n",
        "\n",
        "    #self.layers = [self.deconv, self.batchnorm]\n",
        "\n",
        "  def forward(self, x):\n",
        "    logits = x\n",
        "    for layer in self.layers:\n",
        "      logits = layer(logits)\n",
        "    return logits"
      ],
      "id": "eWJvmPQG-3RB"
    },
    {
      "cell_type": "code",
      "execution_count": 126,
      "metadata": {
        "id": "9e0b19d5"
      },
      "outputs": [],
      "source": [
        "class Encoder(nn.Module):\n",
        "    input_channels = 1\n",
        "    conv_filters = (64, 32)\n",
        "    flatten_out = 32*24*24\n",
        "    dense_sizes = (LATENT_SIZE,)\n",
        "    \n",
        "    def __init__(self):\n",
        "        super().__init__()\n",
        "\n",
        "        self.conv1 = ConvBlock(self.input_channels, self.conv_filters[0], (3, 3))\n",
        "        self.conv2 = ConvBlock(self.conv_filters[0], self.conv_filters[1], (3, 3))\n",
        "        self.flatten = nn.Flatten()\n",
        "        self.dense1 = nn.Linear(self.flatten_out, self.dense_sizes[0]);\n",
        "\n",
        "        self.seq = nn.Sequential(\n",
        "            self.conv1,\n",
        "            nn.ReLU(),\n",
        "            self.conv2,\n",
        "            nn.ReLU(),\n",
        "            self.flatten,\n",
        "            self.dense1,\n",
        "            nn.ReLU()\n",
        "        )\n",
        "        \n",
        "    def forward(self, x):\n",
        "        return self.seq(x)"
      ],
      "id": "9e0b19d5"
    },
    {
      "cell_type": "code",
      "execution_count": 127,
      "metadata": {
        "id": "de6de345"
      },
      "outputs": [],
      "source": [
        "class Decoder(nn.Module):\n",
        "    input_shape = LATENT_SIZE\n",
        "    reshape_in = LATENT_SIZE*22*22\n",
        "    conv_filters = (64, 32, 1)\n",
        "    dense_sizes = (64,)\n",
        "    \n",
        "    def __init__(self):\n",
        "        super().__init__()\n",
        "        \n",
        "        self.dense1 = nn.Linear(self.input_shape, self.reshape_in)\n",
        "        self.reshape = nn.Unflatten(1, (LATENT_SIZE, 22, 22))\n",
        "        self.deconv1 = nn.ConvTranspose2d(LATENT_SIZE, self.conv_filters[0], (3, 3))\n",
        "        self.deconv2 = nn.ConvTranspose2d(self.conv_filters[0], self.conv_filters[1], (3, 3))\n",
        "        self.deconv3 = nn.ConvTranspose2d(self.conv_filters[1], self.conv_filters[2], (3, 3))\n",
        "\n",
        "        self.seq = nn.Sequential(\n",
        "            self.dense1,\n",
        "            nn.ReLU(),\n",
        "            #nn.BatchNorm1d(self.reshape_in),\n",
        "            self.reshape,\n",
        "            self.deconv1,\n",
        "            nn.BatchNorm2d(self.conv_filters[0]),\n",
        "            nn.ReLU(),\n",
        "            self.deconv2,\n",
        "            nn.BatchNorm2d(self.conv_filters[1]),\n",
        "            nn.ReLU(),\n",
        "            self.deconv3,\n",
        "            nn.BatchNorm2d(self.conv_filters[2]),\n",
        "            nn.Sigmoid()\n",
        "        )\n",
        "        \n",
        "    def forward(self, x):\n",
        "        return self.seq(x)"
      ],
      "id": "de6de345"
    },
    {
      "cell_type": "code",
      "execution_count": 128,
      "metadata": {
        "id": "27fc4a9a"
      },
      "outputs": [],
      "source": [
        "class Autoencoder(nn.Module):\n",
        "    input_shape = (1, 28, 28);\n",
        "    \n",
        "    def __init__(self, encoder, decoder):\n",
        "        super().__init__()\n",
        "        \n",
        "        self.encoder = encoder\n",
        "        self.decoder = decoder\n",
        "        \n",
        "    def forward(self, x):\n",
        "        encoder_out = self.encoder(x)\n",
        "        return self.decoder(encoder_out);"
      ],
      "id": "27fc4a9a"
    },
    {
      "cell_type": "code",
      "execution_count": 129,
      "metadata": {
        "id": "fabe70b8"
      },
      "outputs": [],
      "source": [
        "from torchvision.datasets import MNIST, FashionMNIST\n",
        "from torchvision.transforms import ToTensor\n",
        "from torch.utils.data import DataLoader\n",
        "\n",
        "#mnist_data = MNIST(\"KMNIST/raw/train-images-idx3-ubyte\", transform=ToTensor(), download=True)\n",
        "mnist_data = FashionMNIST(\"Fashion MNIST/raw/train-images-idx3-ubyte\", transform=ToTensor(), download=True)\n",
        "loader = DataLoader(mnist_data, batch_size=BATCH_SIZE, shuffle=True, num_workers=2)"
      ],
      "id": "fabe70b8"
    },
    {
      "cell_type": "code",
      "execution_count": 130,
      "metadata": {
        "id": "fe592eb1"
      },
      "outputs": [],
      "source": [
        "encoder = Encoder()\n",
        "encoder = encoder.to(device)"
      ],
      "id": "fe592eb1"
    },
    {
      "cell_type": "code",
      "execution_count": 131,
      "metadata": {
        "id": "0e0b9db6"
      },
      "outputs": [],
      "source": [
        "decoder = Decoder()\n",
        "decoder = decoder.to(device)"
      ],
      "id": "0e0b9db6"
    },
    {
      "cell_type": "code",
      "execution_count": 131,
      "metadata": {
        "id": "91caecc6"
      },
      "outputs": [],
      "source": [],
      "id": "91caecc6"
    },
    {
      "cell_type": "code",
      "execution_count": 132,
      "metadata": {
        "id": "2f5c239f",
        "colab": {
          "base_uri": "https://localhost:8080/"
        },
        "outputId": "e6b630d2-d3c3-4153-8ce5-25f9ef554f89"
      },
      "outputs": [
        {
          "output_type": "stream",
          "name": "stdout",
          "text": [
            "----------------------------------------------------------------\n",
            "        Layer (type)               Output Shape         Param #\n",
            "================================================================\n",
            "            Conv2d-1           [-1, 64, 26, 26]             640\n",
            "            Conv2d-2           [-1, 64, 26, 26]             640\n",
            "       BatchNorm2d-3           [-1, 64, 26, 26]             128\n",
            "       BatchNorm2d-4           [-1, 64, 26, 26]             128\n",
            "         ConvBlock-5           [-1, 64, 26, 26]               0\n",
            "         ConvBlock-6           [-1, 64, 26, 26]               0\n",
            "              ReLU-7           [-1, 64, 26, 26]               0\n",
            "            Conv2d-8           [-1, 32, 24, 24]          18,464\n",
            "            Conv2d-9           [-1, 32, 24, 24]          18,464\n",
            "      BatchNorm2d-10           [-1, 32, 24, 24]              64\n",
            "      BatchNorm2d-11           [-1, 32, 24, 24]              64\n",
            "        ConvBlock-12           [-1, 32, 24, 24]               0\n",
            "        ConvBlock-13           [-1, 32, 24, 24]               0\n",
            "             ReLU-14           [-1, 32, 24, 24]               0\n",
            "          Flatten-15                [-1, 18432]               0\n",
            "          Flatten-16                [-1, 18432]               0\n",
            "           Linear-17                   [-1, 64]       1,179,712\n",
            "           Linear-18                   [-1, 64]       1,179,712\n",
            "             ReLU-19                   [-1, 64]               0\n",
            "================================================================\n",
            "Total params: 2,398,016\n",
            "Trainable params: 2,398,016\n",
            "Non-trainable params: 0\n",
            "----------------------------------------------------------------\n",
            "Input size (MB): 0.00\n",
            "Forward/backward pass size (MB): 3.58\n",
            "Params size (MB): 9.15\n",
            "Estimated Total Size (MB): 12.73\n",
            "----------------------------------------------------------------\n",
            "----------------------------------------------------------------\n",
            "        Layer (type)               Output Shape         Param #\n",
            "================================================================\n",
            "            Linear-1                [-1, 30976]       2,013,440\n",
            "            Linear-2                [-1, 30976]       2,013,440\n",
            "              ReLU-3                [-1, 30976]               0\n",
            "         Unflatten-4           [-1, 64, 22, 22]               0\n",
            "         Unflatten-5           [-1, 64, 22, 22]               0\n",
            "   ConvTranspose2d-6           [-1, 64, 24, 24]          36,928\n",
            "   ConvTranspose2d-7           [-1, 64, 24, 24]          36,928\n",
            "       BatchNorm2d-8           [-1, 64, 24, 24]             128\n",
            "              ReLU-9           [-1, 64, 24, 24]               0\n",
            "  ConvTranspose2d-10           [-1, 32, 26, 26]          18,464\n",
            "  ConvTranspose2d-11           [-1, 32, 26, 26]          18,464\n",
            "      BatchNorm2d-12           [-1, 32, 26, 26]              64\n",
            "             ReLU-13           [-1, 32, 26, 26]               0\n",
            "  ConvTranspose2d-14            [-1, 1, 28, 28]             289\n",
            "  ConvTranspose2d-15            [-1, 1, 28, 28]             289\n",
            "      BatchNorm2d-16            [-1, 1, 28, 28]               2\n",
            "          Sigmoid-17            [-1, 1, 28, 28]               0\n",
            "================================================================\n",
            "Total params: 4,138,436\n",
            "Trainable params: 4,138,436\n",
            "Non-trainable params: 0\n",
            "----------------------------------------------------------------\n",
            "Input size (MB): 0.00\n",
            "Forward/backward pass size (MB): 2.99\n",
            "Params size (MB): 15.79\n",
            "Estimated Total Size (MB): 18.78\n",
            "----------------------------------------------------------------\n"
          ]
        }
      ],
      "source": [
        "autoencoder = Autoencoder(encoder, decoder)\n",
        "autoencoder = autoencoder.to(device)\n",
        "#autoencoder.cuda()\n",
        "\n",
        "#summary(autoencoder, (1, 28, 28))\n",
        "summary(encoder, (1, 28, 28))\n",
        "summary(decoder, (LATENT_SIZE,))"
      ],
      "id": "2f5c239f"
    },
    {
      "cell_type": "code",
      "execution_count": 133,
      "metadata": {
        "id": "53e1ff36"
      },
      "outputs": [],
      "source": [
        "optimizer = Adam(autoencoder.parameters(), lr=0.01)\n",
        "loss_fn = nn.MSELoss();\n",
        "\n",
        "def train(epochs):\n",
        "    for i in range(epochs):\n",
        "        autoencoder.train()\n",
        "        for batch_index, (data, _) in enumerate(loader):\n",
        "            #to_device(data, device)\n",
        "            data = data.to(device)\n",
        "            data.cuda()\n",
        "            #print(data.is_cuda)\n",
        "\n",
        "            optimizer.zero_grad()\n",
        "            #print(\"here\")\n",
        "            output = autoencoder(data)\n",
        "\n",
        "            loss = loss_fn(output, data)\n",
        "            loss.backward()\n",
        "            optimizer.step()\n",
        "\n",
        "            if(batch_index % 100 == 0):\n",
        "                print(\"Batch index: {}, loss: {}\".format(batch_index, loss))"
      ],
      "id": "53e1ff36"
    },
    {
      "cell_type": "code",
      "execution_count": 134,
      "metadata": {
        "colab": {
          "base_uri": "https://localhost:8080/"
        },
        "id": "761d3a2f",
        "outputId": "2c32a4fd-2960-4426-8aae-649e1d91cf57"
      },
      "outputs": [
        {
          "output_type": "stream",
          "name": "stdout",
          "text": [
            "Batch index: 0, loss: 0.2541266679763794\n",
            "Batch index: 100, loss: 0.03783002495765686\n",
            "Batch index: 200, loss: 0.028711950406432152\n",
            "Batch index: 300, loss: 0.023531923070549965\n",
            "Batch index: 400, loss: 0.020371098071336746\n",
            "Batch index: 500, loss: 0.01920069381594658\n",
            "Batch index: 600, loss: 0.013760770671069622\n",
            "Batch index: 700, loss: 0.01476229541003704\n",
            "Batch index: 800, loss: 0.012579288333654404\n",
            "Batch index: 900, loss: 0.01122279092669487\n",
            "Batch index: 1000, loss: 0.016957370564341545\n",
            "Batch index: 1100, loss: 0.0147000877186656\n",
            "Batch index: 1200, loss: 0.011588438414037228\n",
            "Batch index: 1300, loss: 0.01182479690760374\n",
            "Batch index: 1400, loss: 0.010671581141650677\n",
            "Batch index: 1500, loss: 0.010383741930127144\n",
            "Batch index: 1600, loss: 0.0112049151211977\n",
            "Batch index: 1700, loss: 0.013852282427251339\n",
            "Batch index: 1800, loss: 0.009766973555088043\n",
            "Batch index: 0, loss: 0.010794867761433125\n",
            "Batch index: 100, loss: 0.011692682281136513\n",
            "Batch index: 200, loss: 0.010700984857976437\n",
            "Batch index: 300, loss: 0.009456831030547619\n",
            "Batch index: 400, loss: 0.008589406497776508\n",
            "Batch index: 500, loss: 0.010133706033229828\n",
            "Batch index: 600, loss: 0.009485315531492233\n",
            "Batch index: 700, loss: 0.0088522769510746\n",
            "Batch index: 800, loss: 0.009630007669329643\n",
            "Batch index: 900, loss: 0.01018471922725439\n",
            "Batch index: 1000, loss: 0.007432946469634771\n",
            "Batch index: 1100, loss: 0.008089721202850342\n",
            "Batch index: 1200, loss: 0.009462735615670681\n",
            "Batch index: 1300, loss: 0.010920079424977303\n",
            "Batch index: 1400, loss: 0.009289112873375416\n",
            "Batch index: 1500, loss: 0.007476355414837599\n",
            "Batch index: 1600, loss: 0.011606140993535519\n",
            "Batch index: 1700, loss: 0.010388658381998539\n",
            "Batch index: 1800, loss: 0.008174828253686428\n",
            "Batch index: 0, loss: 0.009704768657684326\n",
            "Batch index: 100, loss: 0.008713165298104286\n",
            "Batch index: 200, loss: 0.008391921408474445\n",
            "Batch index: 300, loss: 0.008777070790529251\n",
            "Batch index: 400, loss: 0.009970040060579777\n",
            "Batch index: 500, loss: 0.0074583860114216805\n",
            "Batch index: 600, loss: 0.008433647453784943\n",
            "Batch index: 700, loss: 0.009398402646183968\n",
            "Batch index: 800, loss: 0.009096354246139526\n",
            "Batch index: 900, loss: 0.007321794051676989\n",
            "Batch index: 1000, loss: 0.007616707123816013\n",
            "Batch index: 1100, loss: 0.007566319312900305\n",
            "Batch index: 1200, loss: 0.00933146197348833\n",
            "Batch index: 1300, loss: 0.007889661937952042\n",
            "Batch index: 1400, loss: 0.008505113422870636\n",
            "Batch index: 1500, loss: 0.009074514731764793\n",
            "Batch index: 1600, loss: 0.00915198028087616\n",
            "Batch index: 1700, loss: 0.008231652900576591\n",
            "Batch index: 1800, loss: 0.009022539481520653\n",
            "Batch index: 0, loss: 0.008060773834586143\n",
            "Batch index: 100, loss: 0.00681082671508193\n",
            "Batch index: 200, loss: 0.008378155529499054\n",
            "Batch index: 300, loss: 0.006896031089127064\n",
            "Batch index: 400, loss: 0.006945336703211069\n",
            "Batch index: 500, loss: 0.00750244315713644\n",
            "Batch index: 600, loss: 0.008368921466171741\n",
            "Batch index: 700, loss: 0.007436356972903013\n",
            "Batch index: 800, loss: 0.00840804260224104\n",
            "Batch index: 900, loss: 0.006155094597488642\n",
            "Batch index: 1000, loss: 0.009801961481571198\n",
            "Batch index: 1100, loss: 0.008366367779672146\n",
            "Batch index: 1200, loss: 0.008184392936527729\n",
            "Batch index: 1300, loss: 0.00935306865721941\n",
            "Batch index: 1400, loss: 0.00836363434791565\n",
            "Batch index: 1500, loss: 0.00796181708574295\n",
            "Batch index: 1600, loss: 0.007948119193315506\n",
            "Batch index: 1700, loss: 0.007818411104381084\n",
            "Batch index: 1800, loss: 0.006220815237611532\n",
            "Batch index: 0, loss: 0.0074113211594522\n",
            "Batch index: 100, loss: 0.007230904418975115\n",
            "Batch index: 200, loss: 0.007889270782470703\n",
            "Batch index: 300, loss: 0.007310417015105486\n",
            "Batch index: 400, loss: 0.0076912883669137955\n",
            "Batch index: 500, loss: 0.007924593985080719\n",
            "Batch index: 600, loss: 0.008249526843428612\n",
            "Batch index: 700, loss: 0.008664311841130257\n",
            "Batch index: 800, loss: 0.006884356960654259\n",
            "Batch index: 900, loss: 0.00855280552059412\n",
            "Batch index: 1000, loss: 0.006262372247874737\n",
            "Batch index: 1100, loss: 0.0069944001734256744\n",
            "Batch index: 1200, loss: 0.007766454480588436\n",
            "Batch index: 1300, loss: 0.008219698444008827\n",
            "Batch index: 1400, loss: 0.007489738054573536\n",
            "Batch index: 1500, loss: 0.00842361617833376\n",
            "Batch index: 1600, loss: 0.008163386955857277\n",
            "Batch index: 1700, loss: 0.007528487592935562\n",
            "Batch index: 1800, loss: 0.0077800750732421875\n",
            "Batch index: 0, loss: 0.007724488154053688\n",
            "Batch index: 100, loss: 0.008230030536651611\n",
            "Batch index: 200, loss: 0.00943119265139103\n",
            "Batch index: 300, loss: 0.0077316113747656345\n",
            "Batch index: 400, loss: 0.005589338019490242\n",
            "Batch index: 500, loss: 0.008538242429494858\n",
            "Batch index: 600, loss: 0.010007358156144619\n",
            "Batch index: 700, loss: 0.007877176627516747\n",
            "Batch index: 800, loss: 0.007939065806567669\n",
            "Batch index: 900, loss: 0.00777460029348731\n",
            "Batch index: 1000, loss: 0.005756812170147896\n",
            "Batch index: 1100, loss: 0.009592496789991856\n",
            "Batch index: 1200, loss: 0.0071940370835363865\n",
            "Batch index: 1300, loss: 0.008087572641670704\n",
            "Batch index: 1400, loss: 0.006564494222402573\n",
            "Batch index: 1500, loss: 0.007094553206115961\n",
            "Batch index: 1600, loss: 0.006083388812839985\n",
            "Batch index: 1700, loss: 0.00754135474562645\n",
            "Batch index: 1800, loss: 0.006572131998836994\n",
            "Batch index: 0, loss: 0.007845775224268436\n",
            "Batch index: 100, loss: 0.005945755168795586\n",
            "Batch index: 200, loss: 0.010395511984825134\n",
            "Batch index: 300, loss: 0.006934273522347212\n",
            "Batch index: 400, loss: 0.00742121459916234\n",
            "Batch index: 500, loss: 0.006468075793236494\n",
            "Batch index: 600, loss: 0.0052383108995854855\n",
            "Batch index: 700, loss: 0.008231673389673233\n",
            "Batch index: 800, loss: 0.008014804683625698\n",
            "Batch index: 900, loss: 0.006999916862696409\n",
            "Batch index: 1000, loss: 0.009024758823215961\n",
            "Batch index: 1100, loss: 0.006461190991103649\n",
            "Batch index: 1200, loss: 0.010597698390483856\n",
            "Batch index: 1300, loss: 0.0058660018257796764\n",
            "Batch index: 1400, loss: 0.007834368385374546\n",
            "Batch index: 1500, loss: 0.008187667466700077\n",
            "Batch index: 1600, loss: 0.009370998479425907\n",
            "Batch index: 1700, loss: 0.008392633870244026\n",
            "Batch index: 1800, loss: 0.007153342943638563\n",
            "Batch index: 0, loss: 0.008848428726196289\n",
            "Batch index: 100, loss: 0.006988009437918663\n",
            "Batch index: 200, loss: 0.006790502928197384\n",
            "Batch index: 300, loss: 0.007424306124448776\n",
            "Batch index: 400, loss: 0.00840917881578207\n",
            "Batch index: 500, loss: 0.006162443198263645\n",
            "Batch index: 600, loss: 0.00675254687666893\n",
            "Batch index: 700, loss: 0.007230733055621386\n",
            "Batch index: 800, loss: 0.007161170709878206\n",
            "Batch index: 900, loss: 0.00574905052781105\n",
            "Batch index: 1000, loss: 0.006460285745561123\n",
            "Batch index: 1100, loss: 0.005579042248427868\n",
            "Batch index: 1200, loss: 0.009350989013910294\n",
            "Batch index: 1300, loss: 0.010804812423884869\n",
            "Batch index: 1400, loss: 0.007449548691511154\n",
            "Batch index: 1500, loss: 0.009086934849619865\n",
            "Batch index: 1600, loss: 0.006357627920806408\n",
            "Batch index: 1700, loss: 0.007422635797411203\n",
            "Batch index: 1800, loss: 0.006530233193188906\n",
            "Batch index: 0, loss: 0.0057816337794065475\n",
            "Batch index: 100, loss: 0.006579767446964979\n",
            "Batch index: 200, loss: 0.006209369748830795\n",
            "Batch index: 300, loss: 0.007285372819751501\n",
            "Batch index: 400, loss: 0.007262584287673235\n",
            "Batch index: 500, loss: 0.006264379248023033\n",
            "Batch index: 600, loss: 0.007090769708156586\n",
            "Batch index: 700, loss: 0.00556201720610261\n",
            "Batch index: 800, loss: 0.008894254453480244\n",
            "Batch index: 900, loss: 0.006005818489938974\n",
            "Batch index: 1000, loss: 0.005353077780455351\n",
            "Batch index: 1100, loss: 0.00666410569101572\n",
            "Batch index: 1200, loss: 0.0054375058971345425\n",
            "Batch index: 1300, loss: 0.0069247642531991005\n",
            "Batch index: 1400, loss: 0.007011586334556341\n",
            "Batch index: 1500, loss: 0.00522900465875864\n",
            "Batch index: 1600, loss: 0.008822478353977203\n",
            "Batch index: 1700, loss: 0.006626978050917387\n",
            "Batch index: 1800, loss: 0.005269948858767748\n",
            "Batch index: 0, loss: 0.00648955674842\n",
            "Batch index: 100, loss: 0.007788424845784903\n",
            "Batch index: 200, loss: 0.005846953485161066\n",
            "Batch index: 300, loss: 0.005342551507055759\n",
            "Batch index: 400, loss: 0.006045773159712553\n",
            "Batch index: 500, loss: 0.008235546760261059\n",
            "Batch index: 600, loss: 0.008049866184592247\n",
            "Batch index: 700, loss: 0.007668232079595327\n",
            "Batch index: 800, loss: 0.008016102947294712\n",
            "Batch index: 900, loss: 0.008042946457862854\n",
            "Batch index: 1000, loss: 0.0056424676440656185\n",
            "Batch index: 1100, loss: 0.007602511439472437\n",
            "Batch index: 1200, loss: 0.007011170033365488\n",
            "Batch index: 1300, loss: 0.008666237816214561\n",
            "Batch index: 1400, loss: 0.00626401137560606\n",
            "Batch index: 1500, loss: 0.006606766022741795\n",
            "Batch index: 1600, loss: 0.0063716634176671505\n",
            "Batch index: 1700, loss: 0.008090595714747906\n",
            "Batch index: 1800, loss: 0.0060934629291296005\n"
          ]
        }
      ],
      "source": [
        "train(10)"
      ],
      "id": "761d3a2f"
    },
    {
      "cell_type": "code",
      "execution_count": 135,
      "metadata": {
        "id": "0421db08",
        "colab": {
          "base_uri": "https://localhost:8080/",
          "height": 1000
        },
        "outputId": "955b96ff-05fb-4efb-ed68-7f564c96e402"
      },
      "outputs": [
        {
          "output_type": "display_data",
          "data": {
            "text/plain": [
              "<Figure size 640x480 with 1 Axes>"
            ],
            "image/png": "[encoded data removed]"
          },
          "metadata": {}
        },
        {
          "output_type": "display_data",
          "data": {
            "text/plain": [
              "<Figure size 640x480 with 1 Axes>"
            ],
            "image/png": "[encoded data removed]"
          },
          "metadata": {}
        },
        {
          "output_type": "display_data",
          "data": {
            "text/plain": [
              "<Figure size 640x480 with 1 Axes>"
            ],
            "image/png": "[encoded data removed]"
          },
          "metadata": {}
        }
      ],
      "source": [
        "#display original image + reconstructed image\n",
        "\n",
        "test_loader = DataLoader(mnist_data, batch_size=256, shuffle=True, num_workers=2)\n",
        "\n",
        "for image, label in test_loader:\n",
        "    image = image.to(device)\n",
        "    \n",
        "    encoder_out = encoder(image)\n",
        "    all_out = decoder(encoder_out)\n",
        "    all_out1 = autoencoder(image)\n",
        "    \n",
        "    image = image.cpu()\n",
        "    plt.imshow(image.detach().numpy()[0][0])\n",
        "    plt.show()\n",
        "\n",
        "    all_out1 = all_out1.cpu()\n",
        "    plt.imshow(all_out1.detach().numpy()[0][0])\n",
        "    plt.show()\n",
        "    \n",
        "    x, y = [], []\n",
        "    for out in encoder_out:\n",
        "        x.append(out[0].item())\n",
        "        y.append(out[1].item())\n",
        "    plt.scatter(x, y)\n",
        "    break"
      ],
      "id": "0421db08"
    },
    {
      "cell_type": "code",
      "execution_count": 136,
      "metadata": {
        "id": "3d384e58",
        "colab": {
          "base_uri": "https://localhost:8080/"
        },
        "outputId": "20074789-4b60-41b4-bea2-a40233ad91a8"
      },
      "outputs": [
        {
          "output_type": "stream",
          "name": "stdout",
          "text": [
            "tensor([[   0.0000,    0.0000, 1144.7212,  ...,  726.1646,  292.1100,\n",
            "          400.9059],\n",
            "        [   0.0000,    0.0000, 1496.9425,  ...,  272.3490,  683.0184,\n",
            "          433.8019],\n",
            "        [   0.0000,    0.0000,  211.5765,  ...,  139.4020,  653.5844,\n",
            "           40.3010],\n",
            "        ...,\n",
            "        [   0.0000,    0.0000, 1067.2748,  ...,  545.7753, 1273.3408,\n",
            "          348.2637],\n",
            "        [   0.0000,    0.0000,   98.9459,  ...,  342.3492,  577.3687,\n",
            "          292.8505],\n",
            "        [   0.0000,    0.0000, 1372.2373,  ...,   68.1335,  398.5390,\n",
            "          522.5929]], grad_fn=<ToCopyBackward0>)\n",
            "[3 6 2 0 3 7 0 5 6 8 2 6 3 9 7 0 4 3 5 8 7 2 3 3 4 0 4 8 1 2 4 0 2 3 9 4 5\n",
            " 2 5 2 2 3 2 9 7 0 9 1 1 4 7 4 3 5 6 2 8 8 5 8 4 0 5 5 6 2 9 3 4 5 6 1 1 1\n",
            " 6 7 3 6 3 1 1 8 3 3 5 1 6 8 2 6 2 1 1 9 7 5 6 7 3 4 8 5 3 0 0 3 7 6 9 9 7\n",
            " 5 8 9 9 4 6 2 4 4 1 6 7 9 2 4 6 7 3 2 1 3 3 1 6 6 7 7 9 7 5 9 0 3 4 4 2 3\n",
            " 6 8 2 8 6 1 3 5 8 5 2 7 9 0 9 7 8 8 4 6 3 8 5 1 7 0 3 6 8 3 1 6 9 1 8 8 1\n",
            " 0 2 9 6 7 4 4 0 6 9 0 1 2 6 8 7 5 9 6 5 2 1 7 5 7 2 1 8 1 0 0 2 9 8 4 0 1\n",
            " 4 2 8 1 5 5 3 2 5 6 8 5 7 4 5 5 5 1 3 9 2 4 4 5 9 1 2 9 8 6 4 2 7 6]\n",
            "[6 4 1 5 4 2 4 2 1 1 0 0 6 7 2 5 3 4 2 8 2 0 4 4 3 4 5 9 6 0 1 4 0 5 7 3 2\n",
            " 1 2 1 0 4 1 7 2 5 7 6 6 0 2 3 6 2 1 3 9 5 2 9 4 5 2 2 5 1 7 5 1 2 1 6 6 6\n",
            " 1 2 6 1 5 6 6 8 6 6 2 6 5 8 0 0 0 6 5 7 2 2 3 2 4 0 8 2 4 5 5 3 2 1 7 7 2\n",
            " 2 9 7 7 5 0 0 1 5 6 5 2 7 0 1 0 2 6 0 6 4 5 6 5 5 2 2 2 2 2 7 4 4 0 1 1 6\n",
            " 5 8 0 8 1 5 3 2 9 2 3 2 7 5 2 2 9 8 3 4 4 9 2 6 2 4 6 0 0 6 6 4 7 6 9 9 6\n",
            " 5 0 7 5 2 5 0 5 5 7 5 6 0 1 8 2 7 7 1 2 1 6 2 2 2 0 6 9 6 5 4 5 7 8 1 4 6\n",
            " 5 0 8 6 7 7 6 0 2 5 8 2 2 0 2 7 7 5 5 7 0 3 3 2 7 6 1 7 9 1 0 0 2 5]\n"
          ]
        },
        {
          "output_type": "stream",
          "name": "stderr",
          "text": [
            "/usr/local/lib/python3.10/dist-packages/sklearn/cluster/_kmeans.py:870: FutureWarning: The default value of `n_init` will change from 10 to 'auto' in 1.4. Set the value of `n_init` explicitly to suppress the warning\n",
            "  warnings.warn(\n"
          ]
        }
      ],
      "source": [
        "from sklearn.cluster import KMeans\n",
        "\n",
        "#clustering to see how the embeddings relate to the actual class\n",
        "\n",
        "for image, label in test_loader:\n",
        "    image = image.to(device)\n",
        "\n",
        "    out = encoder(image)\n",
        "    \n",
        "    out = out.cpu()\n",
        "    print(out)\n",
        "    kmeans = KMeans(n_clusters=10).fit(out.detach().numpy())\n",
        "\n",
        "    print(label.detach().numpy())\n",
        "    print(kmeans.labels_)\n",
        "    \n",
        "    break"
      ],
      "id": "3d384e58"
    },
    {
      "cell_type": "code",
      "source": [
        "#find \n",
        "\n",
        "from sklearn.neighbors import NearestNeighbors\n",
        "neigh = NearestNeighbors(n_neighbors = 25)\n",
        "orig_outs = []\n",
        "orig_images = []\n",
        "\n",
        "for image, label in test_loader:\n",
        "  image = image.to(device)\n",
        "\n",
        "  out = encoder(image).cpu()\n",
        "\n",
        "  out = out.detach().numpy()\n",
        "  orig_outs = out\n",
        "  orig_images = image.cpu()\n",
        "  neigh.fit(out)\n",
        "  break\n",
        "\n",
        "print(orig_images.shape)\n",
        "print(orig_images[0].shape)\n",
        "\n",
        "for image, label in test_loader:\n",
        "  image = image.to(device)\n",
        "\n",
        "  figure = plt.figure()\n",
        "\n",
        "  out = encoder(image).cpu()\n",
        "  out = out.detach().numpy()\n",
        "  nearest = neigh.kneighbors([out[0]], return_distance=False)\n",
        "  \n",
        "  figure.add_subplot(1, 11, 1)\n",
        "\n",
        "  image = image.cpu()\n",
        "  plt.imshow(image[0][0])\n",
        "\n",
        "  for i in range(11):\n",
        "    figure.add_subplot(1, 11, i+1)\n",
        "\n",
        "    nearest_tensor = torch.tensor([orig_outs[nearest[0][i]]]).to(device)\n",
        "\n",
        "    res1 = decoder(nearest_tensor).cpu().detach().numpy()[0][0]\n",
        "    res2 = orig_images[nearest[0][i]].detach().numpy()[0]\n",
        "\n",
        "    plt.imshow(res2, cmap=\"Greys_r\")\n",
        "    plt.axis(\"off\")\n",
        "  plt.show()\n",
        "  break"
      ],
      "metadata": {
        "colab": {
          "base_uri": "https://localhost:8080/",
          "height": 139
        },
        "id": "d78POVOsvjrq",
        "outputId": "860b614d-b3f8-4a5f-8b39-527a790425e1"
      },
      "id": "d78POVOsvjrq",
      "execution_count": 137,
      "outputs": [
        {
          "output_type": "stream",
          "name": "stdout",
          "text": [
            "torch.Size([256, 1, 28, 28])\n",
            "torch.Size([1, 28, 28])\n"
          ]
        },
        {
          "output_type": "display_data",
          "data": {
            "text/plain": [
              "<Figure size 640x480 with 12 Axes>"
            ],
            "image/png": "[encoded data removed]"
          },
          "metadata": {}
        }
      ]
    },
    {
      "cell_type": "code",
      "source": [],
      "metadata": {
        "id": "AehfhQtCt4qL"
      },
      "id": "AehfhQtCt4qL",
      "execution_count": 137,
      "outputs": []
    },
    {
      "cell_type": "code",
      "execution_count": 138,
      "metadata": {
        "colab": {
          "base_uri": "https://localhost:8080/",
          "height": 524
        },
        "id": "75a52d28",
        "outputId": "912461d9-b6d9-4e15-b33f-2f8b6fd558c6"
      },
      "outputs": [
        {
          "output_type": "stream",
          "name": "stdout",
          "text": [
            "(64,)\n"
          ]
        },
        {
          "output_type": "display_data",
          "data": {
            "text/plain": [
              "<Figure size 640x480 with 11 Axes>"
            ],
            "image/png": "[encoded data removed]"
          },
          "metadata": {}
        },
        {
          "output_type": "execute_result",
          "data": {
            "text/plain": [
              "<matplotlib.image.AxesImage at 0x7fd06838d300>"
            ]
          },
          "metadata": {},
          "execution_count": 138
        },
        {
          "output_type": "display_data",
          "data": {
            "text/plain": [
              "<Figure size 640x480 with 1 Axes>"
            ],
            "image/png": "[encoded data removed]"
          },
          "metadata": {}
        }
      ],
      "source": [
        "from scipy.stats import norm\n",
        "from sklearn.mixture import GaussianMixture\n",
        "from torchvision.transforms.functional import resize\n",
        "\n",
        "figure = plt.figure()\n",
        "\n",
        "range_min, range_max = np.ones((LATENT_SIZE,))*10000, np.zeros((LATENT_SIZE,))\n",
        "distributions = []\n",
        "distributions_mixture = []\n",
        "mixture_model = GaussianMixture(n_components=10)\n",
        "\n",
        "for image, labels in test_loader:\n",
        "  image = image.to(device)\n",
        "\n",
        "  out = encoder(image).cpu()\n",
        "  out = out.detach().numpy()\n",
        "  for i in range(BATCH_SIZE):\n",
        "    for j in range(LATENT_SIZE):\n",
        "      range_min[j] = min(range_min[j], out[i][j])\n",
        "      range_max[j] = max(range_max[j], out[i][j])\n",
        "  \n",
        "  for i in range(LATENT_SIZE):\n",
        "    x = []\n",
        "    for j in range(BATCH_SIZE):\n",
        "      x.append(out[j][i])\n",
        "    mean, std = norm.fit(x)\n",
        "    distributions.append((mean, std))\n",
        "  mixture_model = mixture_model.fit(out)\n",
        "  break\n",
        "\n",
        "fake_embedding = mixture_model.sample()[0][0]\n",
        "print(fake_embedding.shape)\n",
        "\n",
        "nearest = neigh.kneighbors([fake_embedding], return_distance=False)[0]\n",
        "\n",
        "for i in range(11):\n",
        "  figure.add_subplot(1, 11, i+1)\n",
        "\n",
        "  res = orig_images[nearest[i]]\n",
        "\n",
        "  plt.imshow(res.detach().numpy()[0], cmap=\"Greys_r\")\n",
        "  plt.axis(\"off\")\n",
        "plt.show()\n",
        "\n",
        "fake_embedding.resize((1,LATENT_SIZE))\n",
        "fake_embedding = torch.tensor(fake_embedding).to(device)\n",
        "\n",
        "fake_img = decoder(fake_embedding.float()).cpu()\n",
        "plt.imshow(fake_img.detach().numpy()[0][0])"
      ],
      "id": "75a52d28"
    }
  ],
  "metadata": {
    "colab": {
      "provenance": [],
      "gpuType": "T4"
    },
    "kernelspec": {
      "display_name": "Python 3",
      "name": "python3"
    },
    "language_info": {
      "codemirror_mode": {
        "name": "ipython",
        "version": 3
      },
      "file_extension": ".py",
      "mimetype": "text/x-python",
      "name": "python",
      "nbconvert_exporter": "python",
      "pygments_lexer": "ipython3",
      "version": "3.11.1"
    },
    "accelerator": "GPU"
  },
  "nbformat": 4,
  "nbformat_minor": 5
}
