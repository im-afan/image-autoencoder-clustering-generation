{
  "cells": [
    {
      "cell_type": "code",
      "execution_count": 144,
      "metadata": {
        "id": "8a3bdb48"
      },
      "outputs": [],
      "source": [
        "import torch\n",
        "from torch import nn\n",
        "import numpy as np\n",
        "from torch.optim import SGD, Adam\n",
        "import matplotlib.pyplot as plt\n",
        "import numpy as np\n",
        "from torchsummary import summary"
      ],
      "id": "8a3bdb48"
    },
    {
      "cell_type": "code",
      "source": [
        "device = torch.device('cuda' if torch.cuda.is_available() else 'cpu')\n",
        "device"
      ],
      "metadata": {
        "colab": {
          "base_uri": "https://localhost:8080/"
        },
        "id": "EKEebp-O-4ep",
        "outputId": "3f6420ea-2724-44e3-dd43-cf6bb3af71ba"
      },
      "id": "EKEebp-O-4ep",
      "execution_count": 145,
      "outputs": [
        {
          "output_type": "execute_result",
          "data": {
            "text/plain": [
              "device(type='cuda')"
            ]
          },
          "metadata": {},
          "execution_count": 145
        }
      ]
    },
    {
      "cell_type": "code",
      "execution_count": 146,
      "metadata": {
        "id": "daed2a6b"
      },
      "outputs": [],
      "source": [
        "BATCH_SIZE = 32\n",
        "LATENT_SIZE = 32"
      ],
      "id": "daed2a6b"
    },
    {
      "cell_type": "code",
      "execution_count": 147,
      "metadata": {
        "id": "htv2P2m_5rpJ"
      },
      "outputs": [],
      "source": [
        "#device = torch.device(\"cuda:0\" if torch.cuda.is_available() else \"cpu\")"
      ],
      "id": "htv2P2m_5rpJ"
    },
    {
      "cell_type": "code",
      "execution_count": 148,
      "metadata": {
        "id": "eWJvmPQG-3RB"
      },
      "outputs": [],
      "source": [
        "class ConvBlock(nn.Module):\n",
        "  def __init__(self, in_channels, out_channels, kernel_size):\n",
        "    super().__init__()\n",
        "\n",
        "    self.conv = nn.Conv2d(in_channels, out_channels, kernel_size)\n",
        "    self.batchnorm = nn.BatchNorm2d(out_channels)\n",
        "    #self.pooling = nn.MaxPool2d((2, 2))\n",
        "  \n",
        "    self.layers = [self.conv, self.batchnorm]\n",
        "\n",
        "  def forward(self, x):\n",
        "    #logits = x\n",
        "    #for layer in self.layers:\n",
        "    #  logits = layer(logits)\n",
        "    return self.batchnorm(self.conv(x))\n",
        "  \n",
        "class DeconvBlock(nn.Module):\n",
        "  def __init__(self, in_channels, out_channels, kernel_size):\n",
        "    super().__init__()\n",
        "\n",
        "    self.deconv = nn.ConvTranspose2d(in_channels, out_channels, kernel_size)\n",
        "    self.batchnorm = nn.BatchNorm2d(out_channels)\n",
        "\n",
        "    #self.layers = [self.deconv, self.batchnorm]\n",
        "\n",
        "  def forward(self, x):\n",
        "    logits = x\n",
        "    for layer in self.layers:\n",
        "      logits = layer(logits)\n",
        "    return logits"
      ],
      "id": "eWJvmPQG-3RB"
    },
    {
      "cell_type": "code",
      "execution_count": 149,
      "metadata": {
        "id": "9e0b19d5"
      },
      "outputs": [],
      "source": [
        "class Encoder(nn.Module):\n",
        "    input_channels = 1\n",
        "    conv_filters = (64, 32)\n",
        "    flatten_out = 32*24*24\n",
        "    dense_sizes = (LATENT_SIZE,)\n",
        "    \n",
        "    def __init__(self):\n",
        "        super().__init__()\n",
        "\n",
        "        self.conv1 = ConvBlock(self.input_channels, self.conv_filters[0], (3, 3))\n",
        "        self.conv2 = ConvBlock(self.conv_filters[0], self.conv_filters[1], (3, 3))\n",
        "        self.flatten = nn.Flatten()\n",
        "        self.dense1 = nn.Linear(self.flatten_out, self.dense_sizes[0]);\n",
        "\n",
        "        self.seq = nn.Sequential(\n",
        "            self.conv1,\n",
        "            nn.ReLU(),\n",
        "            self.conv2,\n",
        "            nn.ReLU(),\n",
        "            self.flatten,\n",
        "            self.dense1,\n",
        "            nn.ReLU()\n",
        "        )\n",
        "        \n",
        "    def forward(self, x):\n",
        "        return self.seq(x)"
      ],
      "id": "9e0b19d5"
    },
    {
      "cell_type": "code",
      "execution_count": 150,
      "metadata": {
        "id": "de6de345"
      },
      "outputs": [],
      "source": [
        "class Decoder(nn.Module):\n",
        "    input_shape = LATENT_SIZE\n",
        "    reshape_in = LATENT_SIZE*22*22\n",
        "    conv_filters = (64, 32, 1)\n",
        "    dense_sizes = (64,)\n",
        "    \n",
        "    def __init__(self):\n",
        "        super().__init__()\n",
        "        \n",
        "        self.dense1 = nn.Linear(self.input_shape, self.reshape_in)\n",
        "        self.reshape = nn.Unflatten(1, (LATENT_SIZE, 22, 22))\n",
        "        self.deconv1 = nn.ConvTranspose2d(LATENT_SIZE, self.conv_filters[0], (3, 3))\n",
        "        self.deconv2 = nn.ConvTranspose2d(self.conv_filters[0], self.conv_filters[1], (3, 3))\n",
        "        self.deconv3 = nn.ConvTranspose2d(self.conv_filters[1], self.conv_filters[2], (3, 3))\n",
        "\n",
        "        self.seq = nn.Sequential(\n",
        "            self.dense1,\n",
        "            nn.ReLU(),\n",
        "            #nn.BatchNorm1d(self.reshape_in),\n",
        "            self.reshape,\n",
        "            self.deconv1,\n",
        "            nn.BatchNorm2d(self.conv_filters[0]),\n",
        "            nn.ReLU(),\n",
        "            self.deconv2,\n",
        "            nn.BatchNorm2d(self.conv_filters[1]),\n",
        "            nn.ReLU(),\n",
        "            self.deconv3,\n",
        "            nn.BatchNorm2d(self.conv_filters[2]),\n",
        "            nn.Sigmoid()\n",
        "        )\n",
        "        \n",
        "    def forward(self, x):\n",
        "        return self.seq(x)"
      ],
      "id": "de6de345"
    },
    {
      "cell_type": "code",
      "execution_count": 151,
      "metadata": {
        "id": "27fc4a9a"
      },
      "outputs": [],
      "source": [
        "class Autoencoder(nn.Module):\n",
        "    input_shape = (1, 28, 28);\n",
        "    \n",
        "    def __init__(self, encoder, decoder):\n",
        "        super().__init__()\n",
        "        \n",
        "        self.encoder = encoder\n",
        "        self.decoder = decoder\n",
        "        \n",
        "    def forward(self, x):\n",
        "        encoder_out = self.encoder(x)\n",
        "        return self.decoder(encoder_out);"
      ],
      "id": "27fc4a9a"
    },
    {
      "cell_type": "code",
      "execution_count": 152,
      "metadata": {
        "id": "fabe70b8"
      },
      "outputs": [],
      "source": [
        "from torchvision.datasets import MNIST, FashionMNIST\n",
        "from torchvision.transforms import ToTensor\n",
        "from torch.utils.data import DataLoader\n",
        "\n",
        "#mnist_data = MNIST(\"KMNIST/raw/train-images-idx3-ubyte\", transform=ToTensor(), download=True)\n",
        "mnist_data = FashionMNIST(\"Fashion MNIST/raw/train-images-idx3-ubyte\", transform=ToTensor(), download=True)\n",
        "loader = DataLoader(mnist_data, batch_size=BATCH_SIZE, shuffle=True, num_workers=2)"
      ],
      "id": "fabe70b8"
    },
    {
      "cell_type": "code",
      "execution_count": 153,
      "metadata": {
        "id": "fe592eb1"
      },
      "outputs": [],
      "source": [
        "encoder = Encoder()\n",
        "encoder = encoder.to(device)"
      ],
      "id": "fe592eb1"
    },
    {
      "cell_type": "code",
      "execution_count": 154,
      "metadata": {
        "id": "0e0b9db6"
      },
      "outputs": [],
      "source": [
        "decoder = Decoder()\n",
        "decoder = decoder.to(device)"
      ],
      "id": "0e0b9db6"
    },
    {
      "cell_type": "code",
      "execution_count": 154,
      "metadata": {
        "id": "91caecc6"
      },
      "outputs": [],
      "source": [],
      "id": "91caecc6"
    },
    {
      "cell_type": "code",
      "execution_count": 155,
      "metadata": {
        "id": "2f5c239f",
        "colab": {
          "base_uri": "https://localhost:8080/"
        },
        "outputId": "e5f54cca-c85b-4e21-ab51-14ad5dbb508a"
      },
      "outputs": [
        {
          "output_type": "stream",
          "name": "stdout",
          "text": [
            "----------------------------------------------------------------\n",
            "        Layer (type)               Output Shape         Param #\n",
            "================================================================\n",
            "            Conv2d-1           [-1, 64, 26, 26]             640\n",
            "            Conv2d-2           [-1, 64, 26, 26]             640\n",
            "       BatchNorm2d-3           [-1, 64, 26, 26]             128\n",
            "       BatchNorm2d-4           [-1, 64, 26, 26]             128\n",
            "         ConvBlock-5           [-1, 64, 26, 26]               0\n",
            "         ConvBlock-6           [-1, 64, 26, 26]               0\n",
            "              ReLU-7           [-1, 64, 26, 26]               0\n",
            "            Conv2d-8           [-1, 32, 24, 24]          18,464\n",
            "            Conv2d-9           [-1, 32, 24, 24]          18,464\n",
            "      BatchNorm2d-10           [-1, 32, 24, 24]              64\n",
            "      BatchNorm2d-11           [-1, 32, 24, 24]              64\n",
            "        ConvBlock-12           [-1, 32, 24, 24]               0\n",
            "        ConvBlock-13           [-1, 32, 24, 24]               0\n",
            "             ReLU-14           [-1, 32, 24, 24]               0\n",
            "          Flatten-15                [-1, 18432]               0\n",
            "          Flatten-16                [-1, 18432]               0\n",
            "           Linear-17                   [-1, 32]         589,856\n",
            "           Linear-18                   [-1, 32]         589,856\n",
            "             ReLU-19                   [-1, 32]               0\n",
            "================================================================\n",
            "Total params: 1,218,304\n",
            "Trainable params: 1,218,304\n",
            "Non-trainable params: 0\n",
            "----------------------------------------------------------------\n",
            "Input size (MB): 0.00\n",
            "Forward/backward pass size (MB): 3.58\n",
            "Params size (MB): 4.65\n",
            "Estimated Total Size (MB): 8.23\n",
            "----------------------------------------------------------------\n",
            "----------------------------------------------------------------\n",
            "        Layer (type)               Output Shape         Param #\n",
            "================================================================\n",
            "            Linear-1                [-1, 15488]         511,104\n",
            "            Linear-2                [-1, 15488]         511,104\n",
            "              ReLU-3                [-1, 15488]               0\n",
            "         Unflatten-4           [-1, 32, 22, 22]               0\n",
            "         Unflatten-5           [-1, 32, 22, 22]               0\n",
            "   ConvTranspose2d-6           [-1, 64, 24, 24]          18,496\n",
            "   ConvTranspose2d-7           [-1, 64, 24, 24]          18,496\n",
            "       BatchNorm2d-8           [-1, 64, 24, 24]             128\n",
            "              ReLU-9           [-1, 64, 24, 24]               0\n",
            "  ConvTranspose2d-10           [-1, 32, 26, 26]          18,464\n",
            "  ConvTranspose2d-11           [-1, 32, 26, 26]          18,464\n",
            "      BatchNorm2d-12           [-1, 32, 26, 26]              64\n",
            "             ReLU-13           [-1, 32, 26, 26]               0\n",
            "  ConvTranspose2d-14            [-1, 1, 28, 28]             289\n",
            "  ConvTranspose2d-15            [-1, 1, 28, 28]             289\n",
            "      BatchNorm2d-16            [-1, 1, 28, 28]               2\n",
            "          Sigmoid-17            [-1, 1, 28, 28]               0\n",
            "================================================================\n",
            "Total params: 1,096,900\n",
            "Trainable params: 1,096,900\n",
            "Non-trainable params: 0\n",
            "----------------------------------------------------------------\n",
            "Input size (MB): 0.00\n",
            "Forward/backward pass size (MB): 2.40\n",
            "Params size (MB): 4.18\n",
            "Estimated Total Size (MB): 6.58\n",
            "----------------------------------------------------------------\n"
          ]
        }
      ],
      "source": [
        "autoencoder = Autoencoder(encoder, decoder)\n",
        "autoencoder = autoencoder.to(device)\n",
        "#autoencoder.cuda()\n",
        "\n",
        "#summary(autoencoder, (1, 28, 28))\n",
        "summary(encoder, (1, 28, 28))\n",
        "summary(decoder, (LATENT_SIZE,))"
      ],
      "id": "2f5c239f"
    },
    {
      "cell_type": "code",
      "execution_count": 156,
      "metadata": {
        "id": "53e1ff36"
      },
      "outputs": [],
      "source": [
        "optimizer = Adam(autoencoder.parameters(), lr=0.01)\n",
        "loss_fn = nn.MSELoss();\n",
        "\n",
        "def train(epochs):\n",
        "    for i in range(epochs):\n",
        "        autoencoder.train()\n",
        "        for batch_index, (data, _) in enumerate(loader):\n",
        "            #to_device(data, device)\n",
        "            data = data.to(device)\n",
        "            data.cuda()\n",
        "            #print(data.is_cuda)\n",
        "\n",
        "            optimizer.zero_grad()\n",
        "            #print(\"here\")\n",
        "            output = autoencoder(data)\n",
        "\n",
        "            loss = loss_fn(output, data)\n",
        "            loss.backward()\n",
        "            optimizer.step()\n",
        "\n",
        "            if(batch_index % 100 == 0):\n",
        "                print(\"Batch index: {}, loss: {}\".format(batch_index, loss))"
      ],
      "id": "53e1ff36"
    },
    {
      "cell_type": "code",
      "execution_count": 157,
      "metadata": {
        "colab": {
          "base_uri": "https://localhost:8080/"
        },
        "id": "761d3a2f",
        "outputId": "2a607ddd-499c-40d3-86b3-47470119e3bc"
      },
      "outputs": [
        {
          "output_type": "stream",
          "name": "stdout",
          "text": [
            "Batch index: 0, loss: 0.2235492318868637\n",
            "Batch index: 100, loss: 0.03642767667770386\n",
            "Batch index: 200, loss: 0.03062022477388382\n",
            "Batch index: 300, loss: 0.026353059336543083\n",
            "Batch index: 400, loss: 0.023024573922157288\n",
            "Batch index: 500, loss: 0.018808631226420403\n",
            "Batch index: 600, loss: 0.016221268102526665\n",
            "Batch index: 700, loss: 0.017002204433083534\n",
            "Batch index: 800, loss: 0.0158039890229702\n",
            "Batch index: 900, loss: 0.014222007244825363\n",
            "Batch index: 1000, loss: 0.015507864765822887\n",
            "Batch index: 1100, loss: 0.015002199448645115\n",
            "Batch index: 1200, loss: 0.013286813162267208\n",
            "Batch index: 1300, loss: 0.01511130016297102\n",
            "Batch index: 1400, loss: 0.012228692881762981\n",
            "Batch index: 1500, loss: 0.014213688671588898\n",
            "Batch index: 1600, loss: 0.009985610842704773\n",
            "Batch index: 1700, loss: 0.012983144260942936\n",
            "Batch index: 1800, loss: 0.01079740934073925\n",
            "Batch index: 0, loss: 0.012258036993443966\n",
            "Batch index: 100, loss: 0.010175657458603382\n",
            "Batch index: 200, loss: 0.011791068129241467\n",
            "Batch index: 300, loss: 0.012331124395132065\n",
            "Batch index: 400, loss: 0.014523729681968689\n",
            "Batch index: 500, loss: 0.01013121660798788\n",
            "Batch index: 600, loss: 0.009685754776000977\n",
            "Batch index: 700, loss: 0.01403716579079628\n",
            "Batch index: 800, loss: 0.010529153980314732\n",
            "Batch index: 900, loss: 0.01038261316716671\n",
            "Batch index: 1000, loss: 0.009709957987070084\n",
            "Batch index: 1100, loss: 0.010272226296365261\n",
            "Batch index: 1200, loss: 0.009731900878250599\n",
            "Batch index: 1300, loss: 0.010634648613631725\n",
            "Batch index: 1400, loss: 0.011266534216701984\n",
            "Batch index: 1500, loss: 0.010551183484494686\n",
            "Batch index: 1600, loss: 0.011630337685346603\n",
            "Batch index: 1700, loss: 0.01258720364421606\n",
            "Batch index: 1800, loss: 0.009148630313575268\n",
            "Batch index: 0, loss: 0.010640963912010193\n",
            "Batch index: 100, loss: 0.009141268208622932\n",
            "Batch index: 200, loss: 0.009991745464503765\n",
            "Batch index: 300, loss: 0.012812195345759392\n",
            "Batch index: 400, loss: 0.010912288911640644\n",
            "Batch index: 500, loss: 0.010301844216883183\n",
            "Batch index: 600, loss: 0.00976925902068615\n",
            "Batch index: 700, loss: 0.007991521619260311\n",
            "Batch index: 800, loss: 0.008898266591131687\n",
            "Batch index: 900, loss: 0.009488031268119812\n",
            "Batch index: 1000, loss: 0.00963132455945015\n",
            "Batch index: 1100, loss: 0.010928230360150337\n",
            "Batch index: 1200, loss: 0.012275048531591892\n",
            "Batch index: 1300, loss: 0.012189310975372791\n",
            "Batch index: 1400, loss: 0.010837189853191376\n",
            "Batch index: 1500, loss: 0.009835285134613514\n",
            "Batch index: 1600, loss: 0.009402438066899776\n",
            "Batch index: 1700, loss: 0.01110084168612957\n",
            "Batch index: 1800, loss: 0.007996821776032448\n",
            "Batch index: 0, loss: 0.008351416327059269\n",
            "Batch index: 100, loss: 0.007803062908351421\n",
            "Batch index: 200, loss: 0.00905277207493782\n",
            "Batch index: 300, loss: 0.008931652642786503\n",
            "Batch index: 400, loss: 0.009589241817593575\n",
            "Batch index: 500, loss: 0.009048721753060818\n",
            "Batch index: 600, loss: 0.010380533523857594\n",
            "Batch index: 700, loss: 0.009129627607762814\n",
            "Batch index: 800, loss: 0.007514365948736668\n",
            "Batch index: 900, loss: 0.011263984255492687\n",
            "Batch index: 1000, loss: 0.012071321718394756\n",
            "Batch index: 1100, loss: 0.0076696742326021194\n",
            "Batch index: 1200, loss: 0.009196066297590733\n",
            "Batch index: 1300, loss: 0.008889919146895409\n",
            "Batch index: 1400, loss: 0.0089019276201725\n",
            "Batch index: 1500, loss: 0.010459009557962418\n",
            "Batch index: 1600, loss: 0.010835778899490833\n",
            "Batch index: 1700, loss: 0.008258414454758167\n",
            "Batch index: 1800, loss: 0.008858799934387207\n",
            "Batch index: 0, loss: 0.009611810557544231\n",
            "Batch index: 100, loss: 0.008363026194274426\n",
            "Batch index: 200, loss: 0.009738692082464695\n",
            "Batch index: 300, loss: 0.010043589398264885\n",
            "Batch index: 400, loss: 0.010217875242233276\n",
            "Batch index: 500, loss: 0.009099830873310566\n",
            "Batch index: 600, loss: 0.010064716450870037\n",
            "Batch index: 700, loss: 0.008272843435406685\n",
            "Batch index: 800, loss: 0.008552197366952896\n",
            "Batch index: 900, loss: 0.008747532963752747\n",
            "Batch index: 1000, loss: 0.007619369775056839\n",
            "Batch index: 1100, loss: 0.01314061600714922\n",
            "Batch index: 1200, loss: 0.010105030611157417\n",
            "Batch index: 1300, loss: 0.00684256199747324\n",
            "Batch index: 1400, loss: 0.008734297938644886\n",
            "Batch index: 1500, loss: 0.0083125289529562\n",
            "Batch index: 1600, loss: 0.009383123368024826\n",
            "Batch index: 1700, loss: 0.012433159165084362\n",
            "Batch index: 1800, loss: 0.008823869749903679\n",
            "Batch index: 0, loss: 0.008744553662836552\n",
            "Batch index: 100, loss: 0.009391422383487225\n",
            "Batch index: 200, loss: 0.008367571979761124\n",
            "Batch index: 300, loss: 0.007207674905657768\n",
            "Batch index: 400, loss: 0.009285340085625648\n",
            "Batch index: 500, loss: 0.008185775950551033\n",
            "Batch index: 600, loss: 0.010169834829866886\n",
            "Batch index: 700, loss: 0.008645704947412014\n",
            "Batch index: 800, loss: 0.008606912568211555\n",
            "Batch index: 900, loss: 0.007895116694271564\n",
            "Batch index: 1000, loss: 0.009151323698461056\n",
            "Batch index: 1100, loss: 0.01082479115575552\n",
            "Batch index: 1200, loss: 0.0064882514998316765\n",
            "Batch index: 1300, loss: 0.00811950396746397\n",
            "Batch index: 1400, loss: 0.008183376863598824\n",
            "Batch index: 1500, loss: 0.011297269724309444\n",
            "Batch index: 1600, loss: 0.008263573050498962\n",
            "Batch index: 1700, loss: 0.007008154410868883\n",
            "Batch index: 1800, loss: 0.00798212829977274\n",
            "Batch index: 0, loss: 0.008087052032351494\n",
            "Batch index: 100, loss: 0.008204670622944832\n",
            "Batch index: 200, loss: 0.009730162099003792\n",
            "Batch index: 300, loss: 0.009772878140211105\n",
            "Batch index: 400, loss: 0.006882163230329752\n",
            "Batch index: 500, loss: 0.00782738532871008\n",
            "Batch index: 600, loss: 0.010892116464674473\n",
            "Batch index: 700, loss: 0.008506035432219505\n",
            "Batch index: 800, loss: 0.009464667178690434\n",
            "Batch index: 900, loss: 0.010416222736239433\n",
            "Batch index: 1000, loss: 0.007140981964766979\n",
            "Batch index: 1100, loss: 0.008891923353075981\n",
            "Batch index: 1200, loss: 0.0066152005456388\n",
            "Batch index: 1300, loss: 0.009837275370955467\n",
            "Batch index: 1400, loss: 0.008829169906675816\n",
            "Batch index: 1500, loss: 0.007709029130637646\n",
            "Batch index: 1600, loss: 0.007781332824379206\n",
            "Batch index: 1700, loss: 0.008526059798896313\n",
            "Batch index: 1800, loss: 0.011419257149100304\n",
            "Batch index: 0, loss: 0.00984281674027443\n",
            "Batch index: 100, loss: 0.00752183236181736\n",
            "Batch index: 200, loss: 0.008519710972905159\n",
            "Batch index: 300, loss: 0.009022390469908714\n",
            "Batch index: 400, loss: 0.011500898748636246\n",
            "Batch index: 500, loss: 0.006062766071408987\n",
            "Batch index: 600, loss: 0.00976803433150053\n",
            "Batch index: 700, loss: 0.008173896931111813\n",
            "Batch index: 800, loss: 0.0063896821811795235\n",
            "Batch index: 900, loss: 0.007938889786601067\n",
            "Batch index: 1000, loss: 0.008991675451397896\n",
            "Batch index: 1100, loss: 0.009502841159701347\n",
            "Batch index: 1200, loss: 0.009886147454380989\n",
            "Batch index: 1300, loss: 0.00966245774179697\n",
            "Batch index: 1400, loss: 0.007854001596570015\n",
            "Batch index: 1500, loss: 0.00969148613512516\n",
            "Batch index: 1600, loss: 0.007905833423137665\n",
            "Batch index: 1700, loss: 0.007764750625938177\n",
            "Batch index: 1800, loss: 0.007972999475896358\n",
            "Batch index: 0, loss: 0.008813225664198399\n",
            "Batch index: 100, loss: 0.009059594012796879\n",
            "Batch index: 200, loss: 0.007210006471723318\n",
            "Batch index: 300, loss: 0.0088915154337883\n",
            "Batch index: 400, loss: 0.007674609310925007\n",
            "Batch index: 500, loss: 0.00733495457097888\n",
            "Batch index: 600, loss: 0.007623476907610893\n",
            "Batch index: 700, loss: 0.008624112233519554\n",
            "Batch index: 800, loss: 0.008294311352074146\n",
            "Batch index: 900, loss: 0.008612790144979954\n",
            "Batch index: 1000, loss: 0.010473785921931267\n",
            "Batch index: 1100, loss: 0.008526786230504513\n",
            "Batch index: 1200, loss: 0.010719447396695614\n",
            "Batch index: 1300, loss: 0.008014733903110027\n",
            "Batch index: 1400, loss: 0.006624198518693447\n",
            "Batch index: 1500, loss: 0.008327183313667774\n",
            "Batch index: 1600, loss: 0.00841171108186245\n",
            "Batch index: 1700, loss: 0.009481145069003105\n",
            "Batch index: 1800, loss: 0.008595780469477177\n",
            "Batch index: 0, loss: 0.008055283688008785\n",
            "Batch index: 100, loss: 0.007725025061517954\n",
            "Batch index: 200, loss: 0.007646104786545038\n",
            "Batch index: 300, loss: 0.009021449834108353\n",
            "Batch index: 400, loss: 0.006706313695758581\n",
            "Batch index: 500, loss: 0.008900206536054611\n",
            "Batch index: 600, loss: 0.009388638660311699\n",
            "Batch index: 700, loss: 0.00669221393764019\n",
            "Batch index: 800, loss: 0.0070959338918328285\n",
            "Batch index: 900, loss: 0.008351930417120457\n",
            "Batch index: 1000, loss: 0.008077307604253292\n",
            "Batch index: 1100, loss: 0.007760099601000547\n",
            "Batch index: 1200, loss: 0.008843369781970978\n",
            "Batch index: 1300, loss: 0.0081814369186759\n",
            "Batch index: 1400, loss: 0.010795152746140957\n",
            "Batch index: 1500, loss: 0.008676054887473583\n",
            "Batch index: 1600, loss: 0.009735435247421265\n",
            "Batch index: 1700, loss: 0.006791014224290848\n",
            "Batch index: 1800, loss: 0.00805843435227871\n"
          ]
        }
      ],
      "source": [
        "train(10)"
      ],
      "id": "761d3a2f"
    },
    {
      "cell_type": "code",
      "execution_count": 162,
      "metadata": {
        "id": "0421db08",
        "colab": {
          "base_uri": "https://localhost:8080/",
          "height": 1000
        },
        "outputId": "280f9b21-71da-4755-ea1c-16224ad04b5d"
      },
      "outputs": [
        {
          "output_type": "display_data",
          "data": {
            "text/plain": [
              "<Figure size 640x480 with 1 Axes>"
            ],
            "image/png": "[encoded data removed]"
          },
          "metadata": {}
        },
        {
          "output_type": "display_data",
          "data": {
            "text/plain": [
              "<Figure size 640x480 with 1 Axes>"
            ],
            "image/png": "[encoded data removed]"
          },
          "metadata": {}
        },
        {
          "output_type": "display_data",
          "data": {
            "text/plain": [
              "<Figure size 640x480 with 1 Axes>"
            ],
            "image/png": "[encoded data removed]"
          },
          "metadata": {}
        }
      ],
      "source": [
        "#display original image + reconstructed image\n",
        "\n",
        "test_loader = DataLoader(mnist_data, batch_size=256, shuffle=True, num_workers=2)\n",
        "\n",
        "for image, label in test_loader:\n",
        "    image = image.to(device)\n",
        "    \n",
        "    encoder_out = encoder(image)\n",
        "    all_out = decoder(encoder_out)\n",
        "    all_out1 = autoencoder(image)\n",
        "    \n",
        "    image = image.cpu()\n",
        "    plt.imshow(image.detach().numpy()[0][0])\n",
        "    plt.show()\n",
        "\n",
        "    all_out1 = all_out1.cpu()\n",
        "    plt.imshow(all_out1.detach().numpy()[0][0])\n",
        "    plt.show()\n",
        "    \n",
        "    x, y = [], []\n",
        "    for out in encoder_out:\n",
        "        x.append(out[0].item())\n",
        "        y.append(out[1].item())\n",
        "    plt.scatter(x, y)\n",
        "    break"
      ],
      "id": "0421db08"
    },
    {
      "cell_type": "code",
      "execution_count": 159,
      "metadata": {
        "id": "3d384e58",
        "colab": {
          "base_uri": "https://localhost:8080/"
        },
        "outputId": "9274b03f-58a0-4863-a122-9178e87c23d9"
      },
      "outputs": [
        {
          "output_type": "stream",
          "name": "stdout",
          "text": [
            "tensor([[   0.0000,   77.5996,   89.0663,  ...,  678.4633,  332.6599,\n",
            "            0.0000],\n",
            "        [   0.0000, 1049.2955,  933.6586,  ...,  479.4331,    0.0000,\n",
            "            0.0000],\n",
            "        [   0.0000,  653.9781, 2407.0229,  ...,  439.6533,  505.6474,\n",
            "            0.0000],\n",
            "        ...,\n",
            "        [   0.0000,  511.0247,  793.9033,  ...,    0.0000,  445.7010,\n",
            "            0.0000],\n",
            "        [   0.0000,  560.4786, 1639.0270,  ...,  247.5386,  779.6019,\n",
            "            0.0000],\n",
            "        [   0.0000,  294.7533,  756.1614,  ...,  368.0463,  567.5223,\n",
            "            0.0000]], grad_fn=<ToCopyBackward0>)\n",
            "[7 3 4 8 9 3 1 8 1 9 8 3 8 7 7 7 3 2 3 7 8 4 2 2 3 5 1 9 0 7 3 1 1 6 7 2 4\n",
            " 1 6 9 0 8 6 9 1 0 1 4 4 6 8 9 0 6 4 1 9 5 4 2 9 6 2 8 6 5 1 3 3 2 6 8 2 7\n",
            " 4 3 4 5 0 9 7 6 2 9 9 6 0 2 5 0 8 7 9 6 7 0 4 4 9 3 9 6 3 2 8 3 5 9 7 2 3\n",
            " 2 7 7 8 6 1 8 7 3 4 9 8 5 1 8 3 2 9 6 4 2 3 4 0 0 7 9 3 2 7 4 7 8 0 5 2 0\n",
            " 6 4 9 3 1 4 0 7 0 8 8 6 9 7 5 4 3 0 0 9 6 2 0 3 8 1 6 1 5 2 3 1 6 1 1 3 2\n",
            " 0 3 7 6 4 6 9 1 6 7 4 2 6 6 6 2 7 4 6 6 3 5 8 2 1 0 1 0 7 2 2 5 3 2 3 5 3\n",
            " 4 3 7 0 2 6 8 1 2 9 7 7 6 0 8 7 2 9 0 4 9 2 9 7 6 4 0 0 9 2 9 9 8 8]\n",
            "[9 0 6 4 2 0 0 4 0 2 4 6 0 9 9 9 0 3 0 9 4 8 8 8 0 9 0 9 7 9 0 0 0 8 9 3 8\n",
            " 0 8 2 7 0 3 2 0 7 0 3 6 7 1 5 7 7 3 0 2 5 6 3 5 3 8 1 7 9 0 0 6 3 3 1 8 9\n",
            " 0 0 8 5 7 2 2 3 8 5 2 6 7 8 9 3 4 9 2 6 9 8 8 6 5 7 2 7 0 8 1 6 9 2 9 3 0\n",
            " 3 9 9 1 6 0 1 9 0 6 2 1 9 0 1 6 3 2 3 6 3 0 6 7 7 9 2 0 8 9 6 9 4 7 9 8 6\n",
            " 3 6 5 0 0 6 0 2 7 4 9 8 5 9 2 8 6 0 7 5 3 3 7 0 1 0 3 0 9 3 0 0 3 0 0 0 3\n",
            " 6 7 9 3 6 3 2 0 3 5 3 3 3 8 8 6 9 8 6 3 6 9 5 3 0 7 0 7 9 3 8 9 0 8 6 9 0\n",
            " 3 6 9 3 8 3 3 0 3 2 2 9 8 7 1 9 8 9 7 3 2 3 5 9 3 0 7 7 2 8 2 2 1 4]\n"
          ]
        },
        {
          "output_type": "stream",
          "name": "stderr",
          "text": [
            "/usr/local/lib/python3.10/dist-packages/sklearn/cluster/_kmeans.py:870: FutureWarning: The default value of `n_init` will change from 10 to 'auto' in 1.4. Set the value of `n_init` explicitly to suppress the warning\n",
            "  warnings.warn(\n"
          ]
        }
      ],
      "source": [
        "from sklearn.cluster import KMeans\n",
        "\n",
        "#clustering to see how the embeddings relate to the actual class\n",
        "\n",
        "for image, label in test_loader:\n",
        "    image = image.to(device)\n",
        "\n",
        "    out = encoder(image)\n",
        "    \n",
        "    out = out.cpu()\n",
        "    print(out)\n",
        "    kmeans = KMeans(n_clusters=10).fit(out.detach().numpy())\n",
        "\n",
        "    print(label.detach().numpy())\n",
        "    print(kmeans.labels_)\n",
        "    \n",
        "    break"
      ],
      "id": "3d384e58"
    },
    {
      "cell_type": "code",
      "source": [
        "#find \n",
        "\n",
        "from sklearn.neighbors import NearestNeighbors\n",
        "neigh = NearestNeighbors(n_neighbors = 25)\n",
        "orig_outs = []\n",
        "orig_images = []\n",
        "\n",
        "for image, label in test_loader:\n",
        "  image = image.to(device)\n",
        "\n",
        "  out = encoder(image).cpu()\n",
        "\n",
        "  out = out.detach().numpy()\n",
        "  orig_outs = out\n",
        "  orig_images = image.cpu()\n",
        "  neigh.fit(out)\n",
        "  break\n",
        "\n",
        "print(orig_images.shape)\n",
        "print(orig_images[0].shape)\n",
        "\n",
        "for image, label in test_loader:\n",
        "  image = image.to(device)\n",
        "\n",
        "  figure = plt.figure()\n",
        "\n",
        "  out = encoder(image).cpu()\n",
        "  out = out.detach().numpy()\n",
        "  nearest = neigh.kneighbors([out[0]], return_distance=False)\n",
        "  \n",
        "  figure.add_subplot(1, 11, 1)\n",
        "\n",
        "  image = image.cpu()\n",
        "  plt.imshow(image[0][0])\n",
        "\n",
        "  for i in range(11):\n",
        "    figure.add_subplot(1, 11, i+1)\n",
        "\n",
        "    nearest_tensor = torch.tensor([orig_outs[nearest[0][i]]]).to(device)\n",
        "\n",
        "    res1 = decoder(nearest_tensor).cpu().detach().numpy()[0][0]\n",
        "    res2 = orig_images[nearest[0][i]].detach().numpy()[0]\n",
        "\n",
        "    plt.imshow(res2, cmap=\"Greys_r\")\n",
        "    plt.axis(\"off\")\n",
        "  plt.show()\n",
        "  break"
      ],
      "metadata": {
        "colab": {
          "base_uri": "https://localhost:8080/",
          "height": 138
        },
        "id": "d78POVOsvjrq",
        "outputId": "bb0f4fe9-0719-4853-b89a-23cbc7323cd5"
      },
      "id": "d78POVOsvjrq",
      "execution_count": 167,
      "outputs": [
        {
          "output_type": "stream",
          "name": "stdout",
          "text": [
            "torch.Size([256, 1, 28, 28])\n",
            "torch.Size([1, 28, 28])\n"
          ]
        },
        {
          "output_type": "display_data",
          "data": {
            "text/plain": [
              "<Figure size 640x480 with 12 Axes>"
            ],
            "image/png": "[encoded data removed]"
          },
          "metadata": {}
        }
      ]
    },
    {
      "cell_type": "code",
      "source": [],
      "metadata": {
        "id": "AehfhQtCt4qL"
      },
      "id": "AehfhQtCt4qL",
      "execution_count": 160,
      "outputs": []
    },
    {
      "cell_type": "code",
      "execution_count": 161,
      "metadata": {
        "colab": {
          "base_uri": "https://localhost:8080/",
          "height": 505
        },
        "id": "75a52d28",
        "outputId": "40a824d7-0ccc-43ab-f2f9-d774a94ba3d9"
      },
      "outputs": [
        {
          "output_type": "display_data",
          "data": {
            "text/plain": [
              "<Figure size 640x480 with 11 Axes>"
            ],
            "image/png": "[encoded data removed]"
          },
          "metadata": {}
        },
        {
          "output_type": "execute_result",
          "data": {
            "text/plain": [
              "<matplotlib.image.AxesImage at 0x7f14e950f3a0>"
            ]
          },
          "metadata": {},
          "execution_count": 161
        },
        {
          "output_type": "display_data",
          "data": {
            "text/plain": [
              "<Figure size 640x480 with 1 Axes>"
            ],
            "image/png": "[encoded data removed]"
          },
          "metadata": {}
        }
      ],
      "source": [
        "from scipy.stats import norm\n",
        "from torchvision.transforms.functional import resize\n",
        "\n",
        "figure = plt.figure()\n",
        "\n",
        "range_min, range_max = np.ones((LATENT_SIZE,))*10000, np.zeros((LATENT_SIZE,))\n",
        "distributions = []\n",
        "\n",
        "for image, labels in test_loader:\n",
        "  image = image.to(device)\n",
        "\n",
        "  out = encoder(image).cpu()\n",
        "  out = out.detach().numpy()\n",
        "  for i in range(BATCH_SIZE):\n",
        "    for j in range(LATENT_SIZE):\n",
        "      range_min[j] = min(range_min[j], out[i][j])\n",
        "      range_max[j] = max(range_max[j], out[i][j])\n",
        "  \n",
        "  for i in range(LATENT_SIZE):\n",
        "    x = []\n",
        "    for j in range(BATCH_SIZE):\n",
        "      x.append(out[j][i])\n",
        "    mean, std = norm.fit(x)\n",
        "    distributions.append((mean, std))\n",
        "  break\n",
        "\n",
        "fake_embedding = [np.random.normal(loc=distributions[i][0], scale=distributions[i][1]) for i in range(LATENT_SIZE)]\n",
        "fake_embedding = np.array(fake_embedding)\n",
        "\n",
        "nearest = neigh.kneighbors([fake_embedding], return_distance=False)[0]\n",
        "\n",
        "for i in range(11):\n",
        "  figure.add_subplot(1, 11, i+1)\n",
        "\n",
        "  res = orig_images[nearest[i]]\n",
        "\n",
        "  plt.imshow(res.detach().numpy()[0], cmap=\"Greys_r\")\n",
        "  plt.axis(\"off\")\n",
        "plt.show()\n",
        "\n",
        "fake_embedding.resize((1,LATENT_SIZE))\n",
        "fake_embedding = torch.tensor(fake_embedding).to(device)\n",
        "\n",
        "fake_img = decoder(fake_embedding.float()).cpu()\n",
        "plt.imshow(fake_img.detach().numpy()[0][0])"
      ],
      "id": "75a52d28"
    }
  ],
  "metadata": {
    "colab": {
      "provenance": [],
      "gpuType": "T4"
    },
    "kernelspec": {
      "display_name": "Python 3",
      "name": "python3"
    },
    "language_info": {
      "codemirror_mode": {
        "name": "ipython",
        "version": 3
      },
      "file_extension": ".py",
      "mimetype": "text/x-python",
      "name": "python",
      "nbconvert_exporter": "python",
      "pygments_lexer": "ipython3",
      "version": "3.11.1"
    },
    "accelerator": "GPU"
  },
  "nbformat": 4,
  "nbformat_minor": 5
}